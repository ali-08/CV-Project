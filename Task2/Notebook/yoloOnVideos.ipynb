{
 "cells": [
  {
   "cell_type": "markdown",
   "metadata": {},
   "source": [
    "# Project Phase 2"
   ]
  },
  {
   "cell_type": "markdown",
   "metadata": {},
   "source": [
    "### Yolo Object detection for person, mask, and no-mask"
   ]
  },
  {
   "cell_type": "code",
   "execution_count": 1,
   "metadata": {},
   "outputs": [],
   "source": [
    "import cv2\n",
    "import numpy as np\n",
    "import glob\n",
    "import random\n",
    "import time"
   ]
  },
  {
   "cell_type": "code",
   "execution_count": 2,
   "metadata": {},
   "outputs": [],
   "source": [
    "load_dir = \"C:/Users/Dell/DataScience/Lums/CS5310/MiniProject/Task2\""
   ]
  },
  {
   "cell_type": "code",
   "execution_count": 3,
   "metadata": {},
   "outputs": [],
   "source": [
    "# Load Yolo\n",
    "yolo_net = cv2.dnn.readNet( load_dir + \"/weights3hrs/mask-yolov3_10000.weights\", load_dir + \"/weights3hrs/mask-yolov3.cfg\")\n",
    "\n",
    "layer_names = yolo_net.getLayerNames()\n",
    "\n",
    "output_layers = [layer_names[i[0] - 1] for i in yolo_net.getUnconnectedOutLayers()]\n"
   ]
  },
  {
   "cell_type": "code",
   "execution_count": 4,
   "metadata": {},
   "outputs": [],
   "source": [
    "classes = [\"Person\", \"mask\", \"noMask\"]\n",
    "colors = np.random.uniform(0, 255, size=(len(classes), 3))\n",
    "\n",
    "colors = [0, 122, 255] # color of boxes\n",
    "# print(colors)\n",
    "# print(len(colors))"
   ]
  },
  {
   "cell_type": "code",
   "execution_count": 5,
   "metadata": {},
   "outputs": [],
   "source": [
    "cameras = {\n",
    "    \"Camera-1\": load_dir + \"/Videos/Stream1Recording.mp4\",\n",
    "    \"Camera-2\": load_dir + \"/Videos/campus4-c1.mp4\",\n",
    "#     \"Camera-3\": load_dir + \"/Videos/campus7-c1.mp4\"    \n",
    "}"
   ]
  },
  {
   "cell_type": "code",
   "execution_count": 6,
   "metadata": {},
   "outputs": [],
   "source": [
    "def Get_Available_Cams(cams_detail,starting = 390):\n",
    "    available_cams = {}\n",
    "\n",
    "    for key, video_address in cams_detail.items():\n",
    "        cam = cv2.VideoCapture(video_address)\n",
    "        if cam.isOpened() == True:\n",
    "            cam.set(1,starting)\n",
    "            available_cams[key] = cam\n",
    "            \n",
    "    return available_cams"
   ]
  },
  {
   "cell_type": "code",
   "execution_count": 7,
   "metadata": {},
   "outputs": [],
   "source": [
    "def Object_Detection(current_frame):\n",
    "    \n",
    "    for key in list(current_frame.keys()):\n",
    "        \n",
    "        # Image\n",
    "        img = current_frame[key]\n",
    "        height, width, channels = img.shape\n",
    "\n",
    "        # Detecting objects\n",
    "        blob = cv2.dnn.blobFromImage(img, 0.00392, (416, 416), (0, 0, 0), True, crop=False)\n",
    "\n",
    "        yolo_net.setInput(blob)\n",
    "        outs = yolo_net.forward(output_layers)\n",
    "\n",
    "        # Showing informations on the screen\n",
    "        class_ids = []\n",
    "        confidences = []\n",
    "        boxes = [] \n",
    "        for out in outs:\n",
    "            for detection in out:\n",
    "                scores = detection[5:]\n",
    "                class_id = np.argmax(scores)\n",
    "                confidence = scores[class_id]\n",
    "                if confidence > 0.7:\n",
    "                    # Object detected\n",
    "                    center_x = int(detection[0] * width)\n",
    "                    center_y = int(detection[1] * height)\n",
    "                    w = int(detection[2] * width)\n",
    "                    h = int(detection[3] * height)\n",
    "\n",
    "                    # Rectangle coordinates\n",
    "                    x = int(center_x - w / 2)\n",
    "                    y = int(center_y - h / 2)\n",
    "\n",
    "                    boxes.append([x, y, w, h])\n",
    "                    confidences.append(float(confidence))\n",
    "                    class_ids.append(class_id)\n",
    "\n",
    "        indexes = cv2.dnn.NMSBoxes(boxes, confidences, 0.5, 0.4)\n",
    "        font = cv2.ACCESS_MASK\n",
    "        for i in range(len(boxes)):\n",
    "            if i in indexes:\n",
    "                x, y, w, h = boxes[i]\n",
    "                label = str(classes[class_ids[i]])\n",
    "                color = colors[class_ids[i]]\n",
    "                cv2.rectangle(img, (x, y), (x + w, y + h), color, 1)\n",
    "                cv2.putText(img, label + str(np.around(confidences[i],2)*100) + \"%\", (x, y-5), font, 0.4, color, 1)\n",
    "\n",
    "        cv2.imshow(key, img)\n",
    "        cv2.waitKey(1)        "
   ]
  },
  {
   "cell_type": "code",
   "execution_count": 8,
   "metadata": {},
   "outputs": [],
   "source": [
    "def Read_Image_Yolo(available_cams):\n",
    "    \n",
    "    cam_keys = list(available_cams.keys())\n",
    "\n",
    "    while len(cam_keys) == len(available_cams):\n",
    "        \n",
    "        current_frame = {}        \n",
    "        for i , key in enumerate(cam_keys):\n",
    "            is_open , frame = available_cams[key].read()\n",
    "            if is_open == True:\n",
    "                current_frame[key] = frame\n",
    "            else:\n",
    "                cam_keys.pop(i)\n",
    "                \n",
    "        if len(cam_keys) == len(available_cams):\n",
    "            Object_Detection(current_frame)\n",
    "            \n",
    "    for key in available_cams.keys():\n",
    "        available_cams[key].release()\n",
    " "
   ]
  },
  {
   "cell_type": "code",
   "execution_count": 9,
   "metadata": {},
   "outputs": [],
   "source": [
    "cams_avail = Get_Available_Cams(cameras)\n",
    "Read_Image_Yolo(cams_avail)\n",
    "cv2.destroyAllWindows()"
   ]
  },
  {
   "cell_type": "code",
   "execution_count": 10,
   "metadata": {},
   "outputs": [],
   "source": [
    "cv2.destroyAllWindows()"
   ]
  },
  {
   "cell_type": "code",
   "execution_count": null,
   "metadata": {},
   "outputs": [],
   "source": []
  }
 ],
 "metadata": {
  "kernelspec": {
   "display_name": "Python 3",
   "language": "python",
   "name": "python3"
  },
  "language_info": {
   "codemirror_mode": {
    "name": "ipython",
    "version": 3
   },
   "file_extension": ".py",
   "mimetype": "text/x-python",
   "name": "python",
   "nbconvert_exporter": "python",
   "pygments_lexer": "ipython3",
   "version": "3.8.5"
  }
 },
 "nbformat": 4,
 "nbformat_minor": 4
}
