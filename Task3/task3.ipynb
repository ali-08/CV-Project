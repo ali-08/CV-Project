{
 "cells": [
  {
   "cell_type": "code",
   "execution_count": 1,
   "metadata": {},
   "outputs": [],
   "source": [
    "import cv2\n",
    "import numpy as np\n",
    "from PIL import Image\n",
    "import matplotlib.pyplot as plt\n",
    "from collections import defaultdict"
   ]
  },
  {
   "cell_type": "code",
   "execution_count": 2,
   "metadata": {},
   "outputs": [],
   "source": [
    "# C:\\Users\\Dell\\DataScience\\Lums\\CS5310\\MiniProject\\Task3\n",
    "load_dir = \"C:/Users/Dell/DataScience/Lums/CS5310/MiniProject/Task3/\"\n",
    "\n",
    "cams_detail = {\n",
    "    \"Camera-1\": load_dir + \"Videos/campus4-c0.mp4\",\n",
    "    \"Camera-2\": load_dir + \"Videos/campus4-c1.mp4\",\n",
    "    \"Camera-3\": load_dir + \"Videos/campus4-c2.mp4\"    \n",
    "}"
   ]
  },
  {
   "cell_type": "code",
   "execution_count": 3,
   "metadata": {},
   "outputs": [],
   "source": [
    "def getVideoFrame(cams_detail):\n",
    "    cams_frame = {}\n",
    "    for key, video_address in cams_detail.items():        \n",
    "        \n",
    "        cam = cv2.VideoCapture(video_address)\n",
    "        ret, frame = cam.read()\n",
    "        if ret == True:\n",
    "            cams_frame[key] = frame\n",
    "        cam.release()\n",
    "        \n",
    "    return cams_frame\n",
    "\n",
    "cams_frame = getVideoFrame(cams_detail)"
   ]
  },
  {
   "cell_type": "code",
   "execution_count": 4,
   "metadata": {},
   "outputs": [
    {
     "name": "stdout",
     "output_type": "stream",
     "text": [
      "Camera-1 Image Saved:  (288, 360, 3) C:/Users/Dell/DataScience/Lums/CS5310/MiniProject/Task3/Images/Camera-1.jpg\n",
      "Camera-2 Image Saved:  (288, 360, 3) C:/Users/Dell/DataScience/Lums/CS5310/MiniProject/Task3/Images/Camera-2.jpg\n",
      "Camera-3 Image Saved:  (288, 360, 3) C:/Users/Dell/DataScience/Lums/CS5310/MiniProject/Task3/Images/Camera-3.jpg\n"
     ]
    }
   ],
   "source": [
    "# save single image from each camera in Images folder\n",
    "for key, frame in cams_frame.items():\n",
    "    \n",
    "    save_dir = load_dir + 'Images' + f'/{key}.jpg'\n",
    "    ret = cv2.imwrite(save_dir, frame, [cv2.IMWRITE_JPEG_QUALITY, 100])\n",
    "    if ret == True:\n",
    "        print(key,\"Image Saved: \",frame.shape, save_dir)\n",
    "        cv2.imshow(key, frame)\n",
    "        cv2.waitKey(0)\n",
    "\n",
    "cv2.destroyAllWindows()"
   ]
  },
  {
   "cell_type": "markdown",
   "metadata": {},
   "source": [
    "### Select Points"
   ]
  },
  {
   "cell_type": "code",
   "execution_count": 5,
   "metadata": {},
   "outputs": [],
   "source": [
    "imagePath = {\n",
    "    \"Camera-1\": load_dir + \"/Images/Camera-1.jpg\",\n",
    "    \"Camera-2\": load_dir + \"/Images/Camera-2.jpg\",\n",
    "    \"Camera-3\": load_dir + \"/Images/Camera-3.jpg\",\n",
    "    \"Top-View\": load_dir + \"/Images/top_view.jpg\"\n",
    "}"
   ]
  },
  {
   "cell_type": "code",
   "execution_count": 6,
   "metadata": {},
   "outputs": [],
   "source": [
    "def click_event(event, x, y, flags, params): \n",
    "    if event == cv2.EVENT_LBUTTONDOWN: \n",
    "        print(params[0], [x, y]) \n",
    "        params[2][params[0]].append([x,y])\n",
    "        font = cv2.FONT_HERSHEY_SIMPLEX\n",
    "        cv2.circle(params[1], (x,y), 2, (22, 35,255 ), -1)\n",
    "        cv2.imshow(params[0], params[1])"
   ]
  },
  {
   "cell_type": "code",
   "execution_count": 7,
   "metadata": {},
   "outputs": [],
   "source": [
    "def mark_points(image_name, path_image, top_image_name, path_top_image):\n",
    "\n",
    "    points = defaultdict(list)\n",
    "    \n",
    "    image = cv2.imread(path_image, 1)\n",
    "    top_image = cv2.imread(path_top_image, 1)\n",
    "\n",
    "    cv2.imshow(image_name, image)\n",
    "    cv2.setMouseCallback(image_name, click_event, (image_name, image, points)) \n",
    "\n",
    "    cv2.imshow(top_image_name, top_image)\n",
    "    cv2.setMouseCallback(top_image_name, click_event, (top_image_name,top_image, points)) \n",
    "    \n",
    "    cv2.waitKey(0) \n",
    "    cv2.destroyAllWindows() \n",
    "    return points, image, top_image"
   ]
  },
  {
   "cell_type": "code",
   "execution_count": 8,
   "metadata": {},
   "outputs": [],
   "source": [
    "def show_images_to_mark(image_name, top_image_name):\n",
    "    path_image = imagePath[image_name]\n",
    "    path_top_image = imagePath[top_image_name]\n",
    "    \n",
    "    points, image, top_image  = mark_points(image_name, path_image, top_image_name, path_top_image)\n",
    "    \n",
    "    # path of images marked is Images/Marked\n",
    "    cv2.imwrite(load_dir + f'/Images/Marked/{image_name}.jpg' , image, [cv2.IMWRITE_JPEG_QUALITY, 100])\n",
    "    cv2.imwrite(load_dir + f'/Images/Marked/{image_name + \"-\" + top_image_name}.jpg' , top_image, [cv2.IMWRITE_JPEG_QUALITY, 100])\n",
    "    \n",
    "    print(\"Selected Points:\")\n",
    "    print(image_name, points[image_name])\n",
    "    print(top_image_name, points[top_image_name])\n",
    "    \n",
    "    return np.array(points[image_name]), np.array(points[top_image_name])"
   ]
  },
  {
   "cell_type": "markdown",
   "metadata": {},
   "source": [
    "## Calculate Homography "
   ]
  },
  {
   "cell_type": "code",
   "execution_count": 9,
   "metadata": {},
   "outputs": [],
   "source": [
    "def calculate_homography(image_points, top_view_points):    \n",
    "    if len(image_points) == len(top_view_points) & len(image_points) > 3 :\n",
    "        Homography_matrix[image_name] = cv2.findHomography(image_points,top_view_points)[0]\n",
    "        print(Homography_matrix[image_name])\n",
    "        \n",
    "        save_at = f\"{load_dir}/Images/Homography/H-{image_name}.csv\"\n",
    "        np.savetxt(save_at, Homography_matrix[image_name], delimiter=',')\n",
    "        print(\"Saved at\", save_at)\n",
    "        \n",
    "    else:\n",
    "        print(f\"Can't apply on image_points: { len(image_points)},  top_view_points: {len(top_view_points)} \")"
   ]
  },
  {
   "cell_type": "markdown",
   "metadata": {},
   "source": [
    "## Apply Homograhy "
   ]
  },
  {
   "cell_type": "code",
   "execution_count": 10,
   "metadata": {},
   "outputs": [],
   "source": [
    "def warpImages(img1, img2, H):\n",
    "    h1,w1 = img1.shape[:2]\n",
    "    h2,w2 = img2.shape[:2]\n",
    "    pts1 = np.float32([[0,0],[0,h1],[w1,h1],[w1,0]]).reshape(-1,1,2)\n",
    "    pts2 = np.float32([[0,0],[0,h2],[w2,h2],[w2,0]]).reshape(-1,1,2)\n",
    "    pts2_ = cv2.perspectiveTransform(pts2, H)\n",
    "    pts = np.concatenate((pts1, pts2_), axis=0)\n",
    "    [xmin, ymin] = np.int32(pts.min(axis=0).ravel() - 0.5)\n",
    "    [xmax, ymax] = np.int32(pts.max(axis=0).ravel() + 0.5)\n",
    "    t = [-xmin,-ymin]\n",
    "    Ht = np.array([[1,0,t[0]],[0,1,t[1]],[0,0,1]])\n",
    "    \n",
    "    result = cv2.warpPerspective(img2, Ht.dot(H), (xmax-xmin, ymax-ymin))\n",
    "    return result"
   ]
  },
  {
   "cell_type": "code",
   "execution_count": 11,
   "metadata": {},
   "outputs": [],
   "source": [
    "def apply_homography(image, top_image, homography):\n",
    "    result = warpImages(top_image, image, homography)\n",
    "    cv2.imshow(image_name, image)\n",
    "    cv2.imshow(image_name + \"-Out\",result)\n",
    "    cv2.waitKey(0)\n",
    "    cv2.destroyAllWindows()    \n",
    "    return result"
   ]
  },
  {
   "cell_type": "markdown",
   "metadata": {},
   "source": [
    "## Run "
   ]
  },
  {
   "cell_type": "code",
   "execution_count": 12,
   "metadata": {},
   "outputs": [],
   "source": [
    "# path of images marked is Images/Marked\n",
    "def homography(image_name, top_image_name):\n",
    "\n",
    "    image_points, top_view_points =  show_images_to_mark(image_name, top_image_name)\n",
    "\n",
    "    calculate_homography(image_points, top_view_points)\n",
    "\n",
    "    image = cv2.imread(imagePath[image_name], 1)\n",
    "    top_image = cv2.imread(imagePath[top_image_name], 1)\n",
    "    \n",
    "    homography = Homography_matrix[image_name]\n",
    "\n",
    "    result_image = apply_homography(image, top_image, homography)"
   ]
  },
  {
   "cell_type": "markdown",
   "metadata": {},
   "source": [
    "Uncomment below code to mark homography"
   ]
  },
  {
   "cell_type": "code",
   "execution_count": 13,
   "metadata": {},
   "outputs": [],
   "source": [
    "# Homography_matrix = {}\n",
    "\n",
    "# source_images = [\"Camera-1\", \"Camera-2\", \"Camera-3\"]\n",
    "# # source_images = [\"Camera-3\"]\n",
    "\n",
    "# target_image = \"Top-View\"\n",
    "\n",
    "# for image_name in source_images:\n",
    "#     homography(image_name, target_image)"
   ]
  },
  {
   "cell_type": "markdown",
   "metadata": {},
   "source": [
    "## Homography on Video"
   ]
  },
  {
   "cell_type": "code",
   "execution_count": 14,
   "metadata": {},
   "outputs": [],
   "source": [
    "source_images = [\"Camera-1\", \"Camera-2\", \"Camera-3\"]\n",
    "\n",
    "Homography_matrix = {}\n",
    "Homography_matrix[\"Camera-1\"] = np.array([[-0.211332, -0.405226, 70.781223], [-0.019746, -1.564936, 226.377280], [-0.000025, -0.001961, 0.160791]])\n",
    "Homography_matrix[\"Camera-2\"] = np.array([[0.000745, 0.350335, -98.376103], [-0.164871, -0.390422, 54.081423], [0.000021, -0.001668, 0.111075]])\n",
    "Homography_matrix[\"Camera-3\"] = np.array([[0.089976, 1.066795, -152.055667], [-0.116343, 0.861342, -75.122116], [0.000015, 0.001442, -0.064065]])"
   ]
  },
  {
   "cell_type": "code",
   "execution_count": 15,
   "metadata": {},
   "outputs": [],
   "source": [
    "cameras = {\n",
    "    \"Camera-1\": load_dir + \"Videos/campus4-c0.mp4\",\n",
    "    \"Camera-2\": load_dir + \"Videos/campus4-c1.mp4\",\n",
    "    \"Camera-3\": load_dir + \"Videos/campus4-c2.mp4\"    \n",
    "}"
   ]
  },
  {
   "cell_type": "code",
   "execution_count": 16,
   "metadata": {},
   "outputs": [],
   "source": [
    "def Get_Available_Cams(cameras):\n",
    "    available_cams = {}\n",
    "\n",
    "    for key, video_address in cameras.items():\n",
    "        cam = cv2.VideoCapture(video_address)\n",
    "        if cam.isOpened() == True:\n",
    "            available_cams[key] = cam\n",
    "            \n",
    "    return available_cams"
   ]
  },
  {
   "cell_type": "code",
   "execution_count": 17,
   "metadata": {},
   "outputs": [],
   "source": [
    "def Apply_Homograpy_On_Frames(current_frame):\n",
    "        \n",
    "    merge_image = []\n",
    "    flag = True\n",
    "    \n",
    "    for key in list(current_frame.keys()):\n",
    "        new_image = cv2.warpPerspective(current_frame[key], Homography_matrix[key] ,(700,700)).astype('uint32')\n",
    "        if flag == True:\n",
    "            merge_image = new_image\n",
    "            flag = False\n",
    "        else:\n",
    "            merge_image += new_image\n",
    "        \n",
    "    \n",
    "    length = len(current_frame.keys())\n",
    "    merge_image =  np.array((np.array(merge_image) / length)).astype('uint8')\n",
    "    \n",
    "    cv2.imshow(\"Merged\", merge_image)\n",
    "    cv2.waitKey(1)\n",
    "    \n",
    "    return merge_image"
   ]
  },
  {
   "cell_type": "code",
   "execution_count": 18,
   "metadata": {},
   "outputs": [],
   "source": [
    "def Read_Image(available_cams):\n",
    "    \n",
    "    cam_keys = list(available_cams.keys())\n",
    "    save_path =  load_dir + 'FinalVideo/top_view_video.mp4'\n",
    "    fourcc = cv2.VideoWriter_fourcc(*'MP4V')\n",
    "    top_view_video = cv2.VideoWriter(save_path, fourcc, 25, (700,700))\n",
    "    \n",
    "    while len(cam_keys) == len(available_cams):\n",
    "        current_frame = {}\n",
    "        for i , key in enumerate(cam_keys):            \n",
    "            is_open , frame = available_cams[key].read()\n",
    "            if is_open == True:\n",
    "                current_frame[key] = frame\n",
    "            else:\n",
    "                cam_keys.pop(i)\n",
    "        \n",
    "        if len(cam_keys) == len(available_cams):\n",
    "            merge_image = Apply_Homograpy_On_Frames(current_frame)\n",
    "            top_view_video.write(merge_image)\n",
    "    \n",
    "    for key in available_cams.keys():\n",
    "        available_cams[key].release()\n",
    "\n",
    "    top_view_video.release()"
   ]
  },
  {
   "cell_type": "code",
   "execution_count": 19,
   "metadata": {},
   "outputs": [],
   "source": [
    "top_view_path = load_dir + \"Images/top_view.jpg\"\n",
    "top_image = cv2.imread(top_view_path, 1)\n",
    "\n",
    "camerasAvailable = Get_Available_Cams(cameras)\n",
    "Read_Image(camerasAvailable)\n",
    "cv2.destroyAllWindows()"
   ]
  },
  {
   "cell_type": "code",
   "execution_count": null,
   "metadata": {},
   "outputs": [],
   "source": []
  }
 ],
 "metadata": {
  "kernelspec": {
   "display_name": "Python 3",
   "language": "python",
   "name": "python3"
  },
  "language_info": {
   "codemirror_mode": {
    "name": "ipython",
    "version": 3
   },
   "file_extension": ".py",
   "mimetype": "text/x-python",
   "name": "python",
   "nbconvert_exporter": "python",
   "pygments_lexer": "ipython3",
   "version": "3.8.5"
  }
 },
 "nbformat": 4,
 "nbformat_minor": 4
}
